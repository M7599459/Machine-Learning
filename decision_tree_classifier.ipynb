{
 "cells": [
  {
   "cell_type": "code",
   "execution_count": 1,
   "id": "597f2164",
   "metadata": {},
   "outputs": [
    {
     "name": "stdout",
     "output_type": "stream",
     "text": [
      "Decision Tree Rules:\n",
      " |--- petal width (cm) <= 0.80\n",
      "|   |--- class: 0\n",
      "|--- petal width (cm) >  0.80\n",
      "|   |--- petal length (cm) <= 4.75\n",
      "|   |   |--- petal width (cm) <= 1.65\n",
      "|   |   |   |--- class: 1\n",
      "|   |   |--- petal width (cm) >  1.65\n",
      "|   |   |   |--- class: 2\n",
      "|   |--- petal length (cm) >  4.75\n",
      "|   |   |--- petal width (cm) <= 1.75\n",
      "|   |   |   |--- petal length (cm) <= 4.95\n",
      "|   |   |   |   |--- class: 1\n",
      "|   |   |   |--- petal length (cm) >  4.95\n",
      "|   |   |   |   |--- petal width (cm) <= 1.55\n",
      "|   |   |   |   |   |--- class: 2\n",
      "|   |   |   |   |--- petal width (cm) >  1.55\n",
      "|   |   |   |   |   |--- sepal length (cm) <= 6.95\n",
      "|   |   |   |   |   |   |--- class: 1\n",
      "|   |   |   |   |   |--- sepal length (cm) >  6.95\n",
      "|   |   |   |   |   |   |--- class: 2\n",
      "|   |   |--- petal width (cm) >  1.75\n",
      "|   |   |   |--- petal length (cm) <= 4.85\n",
      "|   |   |   |   |--- sepal length (cm) <= 5.95\n",
      "|   |   |   |   |   |--- class: 1\n",
      "|   |   |   |   |--- sepal length (cm) >  5.95\n",
      "|   |   |   |   |   |--- class: 2\n",
      "|   |   |   |--- petal length (cm) >  4.85\n",
      "|   |   |   |   |--- class: 2\n",
      "\n",
      "\n",
      "Predictions for new samples:\n",
      "Features: [5.1, 3.5, 1.4, 0.2], Predicted Class: setosa\n",
      "Features: [6.9, 3.2, 5.7, 2.3], Predicted Class: virginica\n",
      "Features: [5.8, 2.7, 4.1, 1.0], Predicted Class: versicolor\n"
     ]
    }
   ],
   "source": [
    "from sklearn.datasets import load_iris\n",
    "from sklearn.model_selection import train_test_split\n",
    "from sklearn.tree import DecisionTreeClassifier, export_text\n",
    "\n",
    "# Load the Iris dataset\n",
    "iris = load_iris()\n",
    "X = iris.data\n",
    "y = iris.target\n",
    "\n",
    "# Split the dataset into training and testing sets\n",
    "X_train, X_test, y_train, y_test = train_test_split(X, y, test_size=0.2, random_state=42)\n",
    "\n",
    "# Train the Decision Tree Classifier\n",
    "clf = DecisionTreeClassifier(criterion='entropy')  # ID3 algorithm\n",
    "clf.fit(X_train, y_train)\n",
    "\n",
    "# Print the Decision Tree rules\n",
    "tree_rules = export_text(clf, feature_names=iris.feature_names)\n",
    "print(\"Decision Tree Rules:\\n\", tree_rules)\n",
    "\n",
    "# Classify new samples\n",
    "new_samples = [[5.1, 3.5, 1.4, 0.2],  # Iris-setosa\n",
    "               [6.9, 3.2, 5.7, 2.3],  # Iris-virginica\n",
    "               [5.8, 2.7, 4.1, 1.0]]  # Iris-versicolor\n",
    "\n",
    "predictions = clf.predict(new_samples)\n",
    "print(\"\\nPredictions for new samples:\")\n",
    "for sample, prediction in zip(new_samples, predictions):\n",
    "    print(f\"Features: {sample}, Predicted Class: {iris.target_names[prediction]}\")\n"
   ]
  },
  {
   "cell_type": "code",
   "execution_count": null,
   "id": "d67269bd",
   "metadata": {},
   "outputs": [],
   "source": []
  }
 ],
 "metadata": {
  "kernelspec": {
   "display_name": "Python 3 (ipykernel)",
   "language": "python",
   "name": "python3"
  },
  "language_info": {
   "codemirror_mode": {
    "name": "ipython",
    "version": 3
   },
   "file_extension": ".py",
   "mimetype": "text/x-python",
   "name": "python",
   "nbconvert_exporter": "python",
   "pygments_lexer": "ipython3",
   "version": "3.11.5"
  }
 },
 "nbformat": 4,
 "nbformat_minor": 5
}
