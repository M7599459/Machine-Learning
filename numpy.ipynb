{
 "cells": [
  {
   "cell_type": "code",
   "execution_count": 13,
   "id": "23fffbde",
   "metadata": {},
   "outputs": [],
   "source": [
    "import numpy as np"
   ]
  },
  {
   "cell_type": "code",
   "execution_count": 3,
   "id": "8fcfbce1",
   "metadata": {},
   "outputs": [
    {
     "data": {
      "text/plain": [
       "array([25, 41, 63, 89, 78])"
      ]
     },
     "execution_count": 3,
     "metadata": {},
     "output_type": "execute_result"
    }
   ],
   "source": [
    "arr = np.array([25,41,63,89,78,])\n",
    "arr"
   ]
  },
  {
   "cell_type": "code",
   "execution_count": 4,
   "id": "67192e5e",
   "metadata": {},
   "outputs": [
    {
     "name": "stdout",
     "output_type": "stream",
     "text": [
      "<class 'numpy.ndarray'>\n"
     ]
    }
   ],
   "source": [
    "print(type(arr))"
   ]
  },
  {
   "cell_type": "code",
   "execution_count": 15,
   "id": "153f7a91",
   "metadata": {},
   "outputs": [
    {
     "ename": "SyntaxError",
     "evalue": "invalid decimal literal (3308507309.py, line 1)",
     "output_type": "error",
     "traceback": [
      "\u001b[1;36m  Cell \u001b[1;32mIn[15], line 1\u001b[1;36m\u001b[0m\n\u001b[1;33m    1st = [25,41,63,89,78, 58.2,85.52]\u001b[0m\n\u001b[1;37m    ^\u001b[0m\n\u001b[1;31mSyntaxError\u001b[0m\u001b[1;31m:\u001b[0m invalid decimal literal\n"
     ]
    }
   ],
   "source": [
    "1st = [25,41,63,89,78, 58.2,85.52]\n",
    "arr = np.array(1st)\n",
    "arr\n",
    "print(type())"
   ]
  },
  {
   "cell_type": "code",
   "execution_count": 12,
   "id": "b8cdddb8",
   "metadata": {},
   "outputs": [
    {
     "data": {
      "text/plain": [
       "63"
      ]
     },
     "execution_count": 12,
     "metadata": {},
     "output_type": "execute_result"
    }
   ],
   "source": [
    "arr[2]"
   ]
  },
  {
   "cell_type": "code",
   "execution_count": 9,
   "id": "b9d4537c",
   "metadata": {},
   "outputs": [
    {
     "data": {
      "text/plain": [
       "array([63, 89])"
      ]
     },
     "execution_count": 9,
     "metadata": {},
     "output_type": "execute_result"
    }
   ],
   "source": [
    "arr[2:4]"
   ]
  },
  {
   "cell_type": "code",
   "execution_count": 16,
   "id": "4224b5c4",
   "metadata": {},
   "outputs": [
    {
     "data": {
      "text/plain": [
       "array([78, 89, 63, 41, 25])"
      ]
     },
     "execution_count": 16,
     "metadata": {},
     "output_type": "execute_result"
    }
   ],
   "source": [
    "arr[::-1]"
   ]
  },
  {
   "cell_type": "code",
   "execution_count": 17,
   "id": "9544ee61",
   "metadata": {},
   "outputs": [
    {
     "data": {
      "text/plain": [
       "array([78, 89])"
      ]
     },
     "execution_count": 17,
     "metadata": {},
     "output_type": "execute_result"
    }
   ],
   "source": [
    "arr[-1:-3:-1]"
   ]
  },
  {
   "cell_type": "code",
   "execution_count": 18,
   "id": "5a42132f",
   "metadata": {},
   "outputs": [
    {
     "ename": "AttributeError",
     "evalue": "'numpy.ndarray' object has no attribute 'ndin'",
     "output_type": "error",
     "traceback": [
      "\u001b[1;31m---------------------------------------------------------------------------\u001b[0m",
      "\u001b[1;31mAttributeError\u001b[0m                            Traceback (most recent call last)",
      "Cell \u001b[1;32mIn[18], line 1\u001b[0m\n\u001b[1;32m----> 1\u001b[0m arr\u001b[38;5;241m.\u001b[39mndin\n",
      "\u001b[1;31mAttributeError\u001b[0m: 'numpy.ndarray' object has no attribute 'ndin'"
     ]
    }
   ],
   "source": [
    "arr.ndin"
   ]
  },
  {
   "cell_type": "code",
   "execution_count": 19,
   "id": "dd84433f",
   "metadata": {},
   "outputs": [
    {
     "data": {
      "text/plain": [
       "1"
      ]
     },
     "execution_count": 19,
     "metadata": {},
     "output_type": "execute_result"
    }
   ],
   "source": [
    "arr.ndim"
   ]
  },
  {
   "cell_type": "code",
   "execution_count": 20,
   "id": "95aed732",
   "metadata": {},
   "outputs": [
    {
     "data": {
      "text/plain": [
       "array([ 0,  1,  2,  3,  4,  5,  6,  7,  8,  9, 10, 11, 12, 13, 14, 15, 16,\n",
       "       17, 18, 19])"
      ]
     },
     "execution_count": 20,
     "metadata": {},
     "output_type": "execute_result"
    }
   ],
   "source": [
    "np.arange(20)"
   ]
  },
  {
   "cell_type": "code",
   "execution_count": 21,
   "id": "4db34707",
   "metadata": {},
   "outputs": [
    {
     "data": {
      "text/plain": [
       "array([1., 1., 1., 1., 1., 1., 1., 1., 1., 1.])"
      ]
     },
     "execution_count": 21,
     "metadata": {},
     "output_type": "execute_result"
    }
   ],
   "source": [
    "np.ones(10)"
   ]
  },
  {
   "cell_type": "code",
   "execution_count": 22,
   "id": "cd7eb118",
   "metadata": {},
   "outputs": [
    {
     "data": {
      "text/plain": [
       "array([1.        , 1.44444444, 1.88888889, 2.33333333, 2.77777778,\n",
       "       3.22222222, 3.66666667, 4.11111111, 4.55555556, 5.        ])"
      ]
     },
     "execution_count": 22,
     "metadata": {},
     "output_type": "execute_result"
    }
   ],
   "source": [
    "## 1 - 10\n",
    "np.linspace(1,5,10)"
   ]
  },
  {
   "cell_type": "code",
   "execution_count": 55,
   "id": "63ed34a3",
   "metadata": {
    "scrolled": true
   },
   "outputs": [
    {
     "ename": "SyntaxError",
     "evalue": "incomplete input (326614410.py, line 2)",
     "output_type": "error",
     "traceback": [
      "\u001b[1;36m  Cell \u001b[1;32mIn[55], line 2\u001b[1;36m\u001b[0m\n\u001b[1;33m    [42,63,52,85])\u001b[0m\n\u001b[1;37m                  ^\u001b[0m\n\u001b[1;31mSyntaxError\u001b[0m\u001b[1;31m:\u001b[0m incomplete input\n"
     ]
    }
   ],
   "source": [
    "arr2 =np.array(([52,63,52,85]\n",
    "[42,63,52,85]"
   ]
  },
  {
   "cell_type": "code",
   "execution_count": 54,
   "id": "3af5b345",
   "metadata": {},
   "outputs": [
    {
     "data": {
      "text/plain": [
       "0.7293889684905679"
      ]
     },
     "execution_count": 54,
     "metadata": {},
     "output_type": "execute_result"
    }
   ],
   "source": [
    "#[row,column]  #starting_point:ending_point:step_point\n",
    "arr2[-1,-1]"
   ]
  },
  {
   "cell_type": "code",
   "execution_count": 26,
   "id": "5f7aedbf",
   "metadata": {
    "scrolled": true
   },
   "outputs": [
    {
     "data": {
      "text/plain": [
       "array([[ 0,  1,  2,  3,  4],\n",
       "       [ 5,  6,  7,  8,  9],\n",
       "       [10, 11, 12, 13, 14],\n",
       "       [15, 16, 17, 18, 19],\n",
       "       [20, 21, 22, 23, 24],\n",
       "       [25, 26, 27, 28, 29],\n",
       "       [30, 31, 32, 33, 34],\n",
       "       [35, 36, 37, 38, 39],\n",
       "       [40, 41, 42, 43, 44],\n",
       "       [45, 46, 47, 48, 49],\n",
       "       [50, 51, 52, 53, 54],\n",
       "       [55, 56, 57, 58, 59]])"
      ]
     },
     "execution_count": 26,
     "metadata": {},
     "output_type": "execute_result"
    }
   ],
   "source": [
    "arr3 = np.arange(60).reshape(12,5)\n",
    "arr3\n"
   ]
  },
  {
   "cell_type": "code",
   "execution_count": null,
   "id": "12388d26",
   "metadata": {},
   "outputs": [],
   "source": []
  },
  {
   "cell_type": "code",
   "execution_count": 27,
   "id": "419f95f1",
   "metadata": {},
   "outputs": [
    {
     "data": {
      "text/plain": [
       "array([ 0,  1,  2,  3,  4,  5,  6,  7,  8,  9, 10, 11, 12, 13, 14, 15, 16,\n",
       "       17, 18, 19, 20, 21, 22, 23, 24, 25, 26, 27, 28, 29, 30, 31, 32, 33,\n",
       "       34, 35, 36, 37, 38, 39, 40, 41, 42, 43, 44, 45, 46, 47, 48, 49, 50,\n",
       "       51, 52, 53, 54, 55, 56, 57, 58, 59])"
      ]
     },
     "execution_count": 27,
     "metadata": {},
     "output_type": "execute_result"
    }
   ],
   "source": [
    "arr3.ravel()"
   ]
  },
  {
   "cell_type": "raw",
   "id": "d96b695f",
   "metadata": {},
   "source": [
    "### "
   ]
  },
  {
   "cell_type": "code",
   "execution_count": 28,
   "id": "21d53841",
   "metadata": {},
   "outputs": [
    {
     "data": {
      "text/plain": [
       "array([ 0,  1,  2,  3,  4,  5,  6,  7,  8,  9, 10, 11, 12, 13, 14, 15, 16,\n",
       "       17, 18, 19, 20, 21, 22, 23, 24, 25, 26, 27, 28, 29, 30, 31, 32, 33,\n",
       "       34, 35, 36, 37, 38, 39, 40, 41, 42, 43, 44, 45, 46, 47, 48, 49, 50,\n",
       "       51, 52, 53, 54, 55, 56, 57, 58, 59])"
      ]
     },
     "execution_count": 28,
     "metadata": {},
     "output_type": "execute_result"
    }
   ],
   "source": [
    "arr3.flatten()  #ravel() #reshape"
   ]
  },
  {
   "cell_type": "code",
   "execution_count": 31,
   "id": "8c3acec6",
   "metadata": {},
   "outputs": [
    {
     "data": {
      "text/plain": [
       "array([[0.49215785, 0.40767447],\n",
       "       [0.34326502, 0.50500752],\n",
       "       [0.51844462, 0.11329573],\n",
       "       [0.23454278, 0.15320541],\n",
       "       [0.49435348, 0.86175279],\n",
       "       [0.26739656, 0.77056344],\n",
       "       [0.55897269, 0.83176362],\n",
       "       [0.22188995, 0.19388634],\n",
       "       [0.18945045, 0.11452229],\n",
       "       [0.26454556, 0.50462441]])"
      ]
     },
     "execution_count": 31,
     "metadata": {},
     "output_type": "execute_result"
    }
   ],
   "source": [
    "np.random.random((10,2))"
   ]
  },
  {
   "cell_type": "raw",
   "id": "d4999490",
   "metadata": {},
   "source": []
  },
  {
   "cell_type": "markdown",
   "id": "4aaa79ac",
   "metadata": {},
   "source": [
    "\n",
    "#hjhk"
   ]
  },
  {
   "cell_type": "code",
   "execution_count": 35,
   "id": "348054a2",
   "metadata": {},
   "outputs": [
    {
     "data": {
      "text/plain": [
       "array([1, 4, 4, 4, 3, 1, 1, 4, 4, 4])"
      ]
     },
     "execution_count": 35,
     "metadata": {},
     "output_type": "execute_result"
    }
   ],
   "source": [
    "np.random.randint(1,5,10)\n"
   ]
  },
  {
   "cell_type": "code",
   "execution_count": 36,
   "id": "59eaadce",
   "metadata": {},
   "outputs": [
    {
     "data": {
      "text/plain": [
       "78"
      ]
     },
     "execution_count": 36,
     "metadata": {},
     "output_type": "execute_result"
    }
   ],
   "source": [
    "#to replace value\n",
    "arr[-1]"
   ]
  },
  {
   "cell_type": "code",
   "execution_count": 37,
   "id": "fffac223",
   "metadata": {},
   "outputs": [
    {
     "data": {
      "text/plain": [
       "array([ 25,  41,  63,  89, 100])"
      ]
     },
     "execution_count": 37,
     "metadata": {},
     "output_type": "execute_result"
    }
   ],
   "source": [
    "arr[-1] = 100 #to replace value in a array -1 pr\n",
    "arr"
   ]
  },
  {
   "cell_type": "code",
   "execution_count": 38,
   "id": "8acf0890",
   "metadata": {},
   "outputs": [
    {
     "data": {
      "text/plain": [
       "array([ 83,  15, 103, 101, 192, 193, 194,  16, 115,  65, 106, 148,  39,\n",
       "        21,  48, 154,  17,  70, 125, 182,  53,   4,  17,   5, 168, 101,\n",
       "        99,  61, 197,  93, 133,   1, 186, 110, 135, 165,  85,  13, 108,\n",
       "        64, 198,  32,  95, 110, 114, 167,  66,  54, 157, 124, 118, 140,\n",
       "        23, 124,  39,  89,  37, 129,  13,  53, 156,  12, 175, 123,  19,\n",
       "        19,  67,  19,  24,  60, 185, 146,  35,  55, 182,  11,   4, 134,\n",
       "        97, 117, 112,  71, 105, 154, 144, 100, 100, 161, 114, 116,   8,\n",
       "       181, 176,  94, 150,  72, 192, 158, 160, 145, 118, 183,  92, 106,\n",
       "        45,  74,  54, 105,  72,  48,  47,  46,  11,  74,  78, 155,   6,\n",
       "       142, 183, 123,  63, 194, 187,  28,  77,  98, 149, 123,  94, 161,\n",
       "        87,  10, 138,  86,  17, 157,   1,  28,  94, 143,  30, 173, 160,\n",
       "       121, 135, 187,  33,  85, 112, 173, 120, 145, 159, 178,  16,   2,\n",
       "        66, 187, 167,  30, 124, 113, 152,  80, 179,  93, 100,  69, 103,\n",
       "       172, 137, 115,  56,  13, 140,  26,  75,  97,  20,  42,   1, 149,\n",
       "       141,  83, 111,  92, 130, 195,  62,  41, 113,  79,  29,  61,  50,\n",
       "        61,  27,  49, 111,  88])"
      ]
     },
     "execution_count": 38,
     "metadata": {},
     "output_type": "execute_result"
    }
   ],
   "source": [
    "arr = np.random.randint(1,200,200)\n",
    "arr"
   ]
  },
  {
   "cell_type": "code",
   "execution_count": 39,
   "id": "9a1acd97",
   "metadata": {},
   "outputs": [
    {
     "data": {
      "text/plain": [
       "array([ True,  True, False, False, False, False, False,  True, False,\n",
       "        True, False, False,  True,  True,  True, False,  True,  True,\n",
       "       False, False,  True,  True,  True,  True, False, False,  True,\n",
       "        True, False,  True, False,  True, False, False, False, False,\n",
       "        True,  True, False,  True, False,  True,  True, False, False,\n",
       "       False,  True,  True, False, False, False, False,  True, False,\n",
       "        True,  True,  True, False,  True,  True, False,  True, False,\n",
       "       False,  True,  True,  True,  True,  True,  True, False, False,\n",
       "        True,  True, False,  True,  True, False,  True, False, False,\n",
       "        True, False, False, False, False, False, False, False, False,\n",
       "        True, False, False,  True, False,  True, False, False, False,\n",
       "       False, False, False,  True, False,  True,  True,  True, False,\n",
       "        True,  True,  True,  True,  True,  True,  True, False,  True,\n",
       "       False, False, False,  True, False, False,  True,  True,  True,\n",
       "       False, False,  True, False,  True,  True, False,  True,  True,\n",
       "       False,  True,  True,  True, False,  True, False, False, False,\n",
       "       False, False,  True,  True, False, False, False, False, False,\n",
       "       False,  True,  True,  True, False, False,  True, False, False,\n",
       "       False,  True, False,  True, False,  True, False, False, False,\n",
       "       False,  True,  True, False,  True,  True,  True,  True,  True,\n",
       "        True, False, False,  True, False,  True, False, False,  True,\n",
       "        True, False,  True,  True,  True,  True,  True,  True,  True,\n",
       "       False,  True])"
      ]
     },
     "execution_count": 39,
     "metadata": {},
     "output_type": "execute_result"
    }
   ],
   "source": [
    "arr<100"
   ]
  },
  {
   "cell_type": "code",
   "execution_count": 40,
   "id": "74332274",
   "metadata": {},
   "outputs": [
    {
     "data": {
      "text/plain": [
       "array([83, 15, 16, 65, 39, 21, 48, 17, 70, 53,  4, 17,  5, 99, 61, 93,  1,\n",
       "       85, 13, 64, 32, 95, 66, 54, 23, 39, 89, 37, 13, 53, 12, 19, 19, 67,\n",
       "       19, 24, 60, 35, 55, 11,  4, 97, 71,  8, 94, 72, 92, 45, 74, 54, 72,\n",
       "       48, 47, 46, 11, 74, 78,  6, 63, 28, 77, 98, 94, 87, 10, 86, 17,  1,\n",
       "       28, 94, 30, 33, 85, 16,  2, 66, 30, 80, 93, 69, 56, 13, 26, 75, 97,\n",
       "       20, 42,  1, 83, 92, 62, 41, 79, 29, 61, 50, 61, 27, 49, 88])"
      ]
     },
     "execution_count": 40,
     "metadata": {},
     "output_type": "execute_result"
    }
   ],
   "source": [
    "arr[arr<100]"
   ]
  },
  {
   "cell_type": "code",
   "execution_count": 11,
   "id": "0fa17b2d",
   "metadata": {},
   "outputs": [
    {
     "ename": "NameError",
     "evalue": "name 'arr' is not defined",
     "output_type": "error",
     "traceback": [
      "\u001b[1;31m---------------------------------------------------------------------------\u001b[0m",
      "\u001b[1;31mNameError\u001b[0m                                 Traceback (most recent call last)",
      "Cell \u001b[1;32mIn[11], line 1\u001b[0m\n\u001b[1;32m----> 1\u001b[0m arr[arr\u001b[38;5;241m<\u001b[39m\u001b[38;5;241m100\u001b[39m]\u001b[38;5;241m.\u001b[39mshape\n",
      "\u001b[1;31mNameError\u001b[0m: name 'arr' is not defined"
     ]
    }
   ],
   "source": [
    "arr[arr<100].shape"
   ]
  },
  {
   "cell_type": "code",
   "execution_count": 14,
   "id": "4bde89de",
   "metadata": {},
   "outputs": [
    {
     "data": {
      "text/plain": [
       "array([[[1, 2, 3],\n",
       "        [4, 5, 6]],\n",
       "\n",
       "       [[1, 2, 3],\n",
       "        [4, 5, 6]],\n",
       "\n",
       "       [[1, 2, 3],\n",
       "        [4, 5, 6]],\n",
       "\n",
       "       [[1, 2, 3],\n",
       "        [4, 5, 6]]])"
      ]
     },
     "execution_count": 14,
     "metadata": {},
     "output_type": "execute_result"
    }
   ],
   "source": [
    "[[[1,2,3],\n",
    "  [4,5,6]],\n",
    " [[1,2,3],\n",
    "  [4,5,6]],\n",
    " [[1,2,3],\n",
    "  [4,5,6]],\n",
    " [[1,2,3],\n",
    "  [4,5,6]]]\n",
    "\n",
    "arr = np.array([[[1,2,3],\n",
    "  [4,5,6]],\n",
    " [[1,2,3],\n",
    "  [4,5,6]],\n",
    " [[1,2,3],\n",
    "  [4,5,6]],\n",
    " [[1,2,3],\n",
    "  [4,5,6]]])\n",
    "arr\n"
   ]
  },
  {
   "cell_type": "code",
   "execution_count": 16,
   "id": "287b1c97",
   "metadata": {},
   "outputs": [
    {
     "data": {
      "text/plain": [
       "3"
      ]
     },
     "execution_count": 16,
     "metadata": {},
     "output_type": "execute_result"
    }
   ],
   "source": [
    "arr.ndim"
   ]
  },
  {
   "cell_type": "code",
   "execution_count": 17,
   "id": "def45c36",
   "metadata": {},
   "outputs": [
    {
     "data": {
      "text/plain": [
       "(4, 2, 3)"
      ]
     },
     "execution_count": 17,
     "metadata": {},
     "output_type": "execute_result"
    }
   ],
   "source": [
    "arr.shape"
   ]
  },
  {
   "cell_type": "code",
   "execution_count": 18,
   "id": "ec4e7400",
   "metadata": {},
   "outputs": [
    {
     "data": {
      "text/plain": [
       "array([[1, 2, 3],\n",
       "       [4, 5, 6]])"
      ]
     },
     "execution_count": 18,
     "metadata": {},
     "output_type": "execute_result"
    }
   ],
   "source": [
    "arr[0]"
   ]
  },
  {
   "cell_type": "code",
   "execution_count": 20,
   "id": "2a640faa",
   "metadata": {},
   "outputs": [
    {
     "data": {
      "text/plain": [
       "3"
      ]
     },
     "execution_count": 20,
     "metadata": {},
     "output_type": "execute_result"
    }
   ],
   "source": [
    "arr[1,0,2]"
   ]
  },
  {
   "cell_type": "code",
   "execution_count": 22,
   "id": "16f0a728",
   "metadata": {},
   "outputs": [],
   "source": [
    "a =arr[1,0, :][2]"
   ]
  },
  {
   "cell_type": "code",
   "execution_count": 27,
   "id": "3d17de3a",
   "metadata": {},
   "outputs": [],
   "source": [
    "a =arr[1,0,:]"
   ]
  },
  {
   "cell_type": "code",
   "execution_count": 28,
   "id": "2de2f2c7",
   "metadata": {},
   "outputs": [
    {
     "data": {
      "text/plain": [
       "array([3, 2, 1])"
      ]
     },
     "execution_count": 28,
     "metadata": {},
     "output_type": "execute_result"
    }
   ],
   "source": [
    "a[:: -1]"
   ]
  },
  {
   "cell_type": "code",
   "execution_count": 29,
   "id": "099d46df",
   "metadata": {},
   "outputs": [
    {
     "data": {
      "text/plain": [
       "array([5, 6])"
      ]
     },
     "execution_count": 29,
     "metadata": {},
     "output_type": "execute_result"
    }
   ],
   "source": [
    "arr[2,1,1:]  #1: start from 1 to all column"
   ]
  },
  {
   "cell_type": "code",
   "execution_count": 30,
   "id": "d293b70c",
   "metadata": {},
   "outputs": [
    {
     "ename": "IndentationError",
     "evalue": "unexpected indent (3636078372.py, line 2)",
     "output_type": "error",
     "traceback": [
      "\u001b[1;36m  Cell \u001b[1;32mIn[30], line 2\u001b[1;36m\u001b[0m\n\u001b[1;33m    [4,5,6],\u001b[0m\n\u001b[1;37m    ^\u001b[0m\n\u001b[1;31mIndentationError\u001b[0m\u001b[1;31m:\u001b[0m unexpected indent\n"
     ]
    }
   ],
   "source": [
    "arr[1,2,3]\n",
    "   [4,5,6],\n",
    "    "
   ]
  },
  {
   "cell_type": "code",
   "execution_count": 34,
   "id": "fbaad41f",
   "metadata": {},
   "outputs": [
    {
     "data": {
      "text/plain": [
       "array([[1, 2, 3],\n",
       "       [1, 2, 3],\n",
       "       [1, 2, 3],\n",
       "       [1, 2, 3]])"
      ]
     },
     "execution_count": 34,
     "metadata": {},
     "output_type": "execute_result"
    }
   ],
   "source": [
    "arr[:,0, :]"
   ]
  },
  {
   "cell_type": "code",
   "execution_count": 56,
   "id": "782aa275",
   "metadata": {},
   "outputs": [
    {
     "data": {
      "text/plain": [
       "array([[[1, 2, 3],\n",
       "        [4, 5, 6]],\n",
       "\n",
       "       [[1, 2, 3],\n",
       "        [4, 5, 6]],\n",
       "\n",
       "       [[1, 2, 3],\n",
       "        [4, 5, 6]],\n",
       "\n",
       "       [[1, 2, 3],\n",
       "        [4, 5, 6]]])"
      ]
     },
     "execution_count": 56,
     "metadata": {},
     "output_type": "execute_result"
    }
   ],
   "source": [
    "arr1 = np.random.random((3,2))\n",
    "arr"
   ]
  },
  {
   "cell_type": "code",
   "execution_count": 36,
   "id": "88abe78c",
   "metadata": {},
   "outputs": [
    {
     "data": {
      "text/plain": [
       "(3, 2)"
      ]
     },
     "execution_count": 36,
     "metadata": {},
     "output_type": "execute_result"
    }
   ],
   "source": [
    "arr2.shape"
   ]
  },
  {
   "cell_type": "code",
   "execution_count": 38,
   "id": "38de9182",
   "metadata": {},
   "outputs": [
    {
     "data": {
      "text/plain": [
       "array([[0.58505468, 0.24206747, 0.33024291],\n",
       "       [0.50712171, 0.32014445, 0.72938897]])"
      ]
     },
     "execution_count": 38,
     "metadata": {},
     "output_type": "execute_result"
    }
   ],
   "source": [
    "arr2.T #Transpose"
   ]
  },
  {
   "cell_type": "code",
   "execution_count": 42,
   "id": "c1c23e3c",
   "metadata": {},
   "outputs": [
    {
     "data": {
      "text/plain": [
       "(3, 2)"
      ]
     },
     "execution_count": 42,
     "metadata": {},
     "output_type": "execute_result"
    }
   ],
   "source": [
    "arr2.shape"
   ]
  },
  {
   "cell_type": "code",
   "execution_count": 58,
   "id": "e8905a67",
   "metadata": {},
   "outputs": [
    {
     "data": {
      "text/plain": [
       "(3, 2)"
      ]
     },
     "execution_count": 58,
     "metadata": {},
     "output_type": "execute_result"
    }
   ],
   "source": [
    "arr1.shape"
   ]
  },
  {
   "cell_type": "code",
   "execution_count": 57,
   "id": "151d4ad6",
   "metadata": {},
   "outputs": [
    {
     "data": {
      "text/plain": [
       "array([[0.60311513, 0.47540599, 0.58505468, 0.50712171],\n",
       "       [0.69676497, 0.75786762, 0.24206747, 0.32014445],\n",
       "       [0.57959691, 0.36727551, 0.33024291, 0.72938897]])"
      ]
     },
     "execution_count": 57,
     "metadata": {},
     "output_type": "execute_result"
    }
   ],
   "source": [
    "np.concatenate((arr1,arr2),axis=1)"
   ]
  },
  {
   "cell_type": "code",
   "execution_count": 61,
   "id": "50591bc8",
   "metadata": {},
   "outputs": [
    {
     "ename": "TypeError",
     "evalue": "'builtin_function_or_method' object is not subscriptable",
     "output_type": "error",
     "traceback": [
      "\u001b[1;31m---------------------------------------------------------------------------\u001b[0m",
      "\u001b[1;31mTypeError\u001b[0m                                 Traceback (most recent call last)",
      "Cell \u001b[1;32mIn[61], line 1\u001b[0m\n\u001b[1;32m----> 1\u001b[0m arr\u001b[38;5;241m=\u001b[39m np\u001b[38;5;241m.\u001b[39marange[\u001b[38;5;241m10\u001b[39m]\n\u001b[0;32m      2\u001b[0m arr\n",
      "\u001b[1;31mTypeError\u001b[0m: 'builtin_function_or_method' object is not subscriptable"
     ]
    }
   ],
   "source": [
    "arr= np.arange[10]\n",
    "arr "
   ]
  },
  {
   "cell_type": "code",
   "execution_count": 62,
   "id": "e8aebd78",
   "metadata": {},
   "outputs": [
    {
     "data": {
      "text/plain": [
       "3.5"
      ]
     },
     "execution_count": 62,
     "metadata": {},
     "output_type": "execute_result"
    }
   ],
   "source": [
    "arr.mean() #min,max,sum"
   ]
  },
  {
   "cell_type": "code",
   "execution_count": 63,
   "id": "b05e6ae3",
   "metadata": {},
   "outputs": [
    {
     "data": {
      "text/plain": [
       "6"
      ]
     },
     "execution_count": 63,
     "metadata": {},
     "output_type": "execute_result"
    }
   ],
   "source": [
    "arr.max()"
   ]
  },
  {
   "cell_type": "code",
   "execution_count": 65,
   "id": "cefb96a5",
   "metadata": {},
   "outputs": [
    {
     "data": {
      "text/plain": [
       "(array([[1, 2, 3]]), [[4, 5, 6]])"
      ]
     },
     "execution_count": 65,
     "metadata": {},
     "output_type": "execute_result"
    }
   ],
   "source": [
    "#multiply of 2d & id array\n",
    "arr1 = np.array([[1,2,3]]),([[4,5,6]])\n",
    "\n",
    "\n",
    "arr1"
   ]
  },
  {
   "cell_type": "code",
   "execution_count": 67,
   "id": "35854f47",
   "metadata": {},
   "outputs": [
    {
     "data": {
      "text/plain": [
       "array([4, 5, 6, 7, 1, 8])"
      ]
     },
     "execution_count": 67,
     "metadata": {},
     "output_type": "execute_result"
    }
   ],
   "source": [
    "arr = np.array([4,5,6,7,1,8])\n",
    "arr"
   ]
  },
  {
   "cell_type": "code",
   "execution_count": 69,
   "id": "877b9f72",
   "metadata": {},
   "outputs": [],
   "source": [
    "arr1 = arr2"
   ]
  },
  {
   "cell_type": "code",
   "execution_count": 71,
   "id": "89b6dec8",
   "metadata": {},
   "outputs": [],
   "source": [
    "arr.sort() #sorting array"
   ]
  },
  {
   "cell_type": "code",
   "execution_count": 72,
   "id": "a527a620",
   "metadata": {},
   "outputs": [
    {
     "data": {
      "text/plain": [
       "array([1, 4, 5, 6, 7, 8])"
      ]
     },
     "execution_count": 72,
     "metadata": {},
     "output_type": "execute_result"
    }
   ],
   "source": [
    "arr"
   ]
  },
  {
   "cell_type": "code",
   "execution_count": 76,
   "id": "dbc44d3f",
   "metadata": {},
   "outputs": [
    {
     "data": {
      "text/plain": [
       "array([0, 1, 2, 3, 4, 5], dtype=int64)"
      ]
     },
     "execution_count": 76,
     "metadata": {},
     "output_type": "execute_result"
    }
   ],
   "source": [
    "arr.argsort() #"
   ]
  },
  {
   "cell_type": "code",
   "execution_count": 77,
   "id": "54d96560",
   "metadata": {},
   "outputs": [
    {
     "data": {
      "text/plain": [
       "0"
      ]
     },
     "execution_count": 77,
     "metadata": {},
     "output_type": "execute_result"
    }
   ],
   "source": [
    "arr.argmin()"
   ]
  },
  {
   "cell_type": "code",
   "execution_count": 78,
   "id": "ee5a49a3",
   "metadata": {},
   "outputs": [
    {
     "data": {
      "text/plain": [
       "5"
      ]
     },
     "execution_count": 78,
     "metadata": {},
     "output_type": "execute_result"
    }
   ],
   "source": [
    "arr.argmax()"
   ]
  },
  {
   "cell_type": "code",
   "execution_count": 80,
   "id": "095e4714",
   "metadata": {},
   "outputs": [
    {
     "data": {
      "text/plain": [
       "0"
      ]
     },
     "execution_count": 80,
     "metadata": {},
     "output_type": "execute_result"
    }
   ],
   "source": [
    "arr.argmin()"
   ]
  },
  {
   "cell_type": "code",
   "execution_count": null,
   "id": "c673c31a",
   "metadata": {},
   "outputs": [],
   "source": []
  }
 ],
 "metadata": {
  "kernelspec": {
   "display_name": "Python 3 (ipykernel)",
   "language": "python",
   "name": "python3"
  },
  "language_info": {
   "codemirror_mode": {
    "name": "ipython",
    "version": 3
   },
   "file_extension": ".py",
   "mimetype": "text/x-python",
   "name": "python",
   "nbconvert_exporter": "python",
   "pygments_lexer": "ipython3",
   "version": "3.11.5"
  }
 },
 "nbformat": 4,
 "nbformat_minor": 5
}
