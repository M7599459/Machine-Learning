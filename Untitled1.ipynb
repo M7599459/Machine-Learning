{
 "cells": [
  {
   "cell_type": "code",
   "execution_count": 2,
   "id": "f7fdc1d8",
   "metadata": {},
   "outputs": [
    {
     "ename": "ImportError",
     "evalue": "cannot import name 'decisiontreeclassifier' from 'sklearn.tree' (C:\\Users\\Monika\\anaconda3\\Lib\\site-packages\\sklearn\\tree\\__init__.py)",
     "output_type": "error",
     "traceback": [
      "\u001b[1;31m---------------------------------------------------------------------------\u001b[0m",
      "\u001b[1;31mImportError\u001b[0m                               Traceback (most recent call last)",
      "Cell \u001b[1;32mIn[2], line 3\u001b[0m\n\u001b[0;32m      1\u001b[0m \u001b[38;5;28;01mfrom\u001b[39;00m \u001b[38;5;21;01msklearn\u001b[39;00m\u001b[38;5;21;01m.\u001b[39;00m\u001b[38;5;21;01mdatasets\u001b[39;00m \u001b[38;5;28;01mimport\u001b[39;00m load_iris\n\u001b[0;32m      2\u001b[0m \u001b[38;5;28;01mfrom\u001b[39;00m \u001b[38;5;21;01msklearn\u001b[39;00m\u001b[38;5;21;01m.\u001b[39;00m\u001b[38;5;21;01mmodel_selection\u001b[39;00m \u001b[38;5;28;01mimport\u001b[39;00m train_test_split\n\u001b[1;32m----> 3\u001b[0m \u001b[38;5;28;01mfrom\u001b[39;00m \u001b[38;5;21;01msklearn\u001b[39;00m\u001b[38;5;21;01m.\u001b[39;00m\u001b[38;5;21;01mtree\u001b[39;00m \u001b[38;5;28;01mimport\u001b[39;00m decisiontreeclassifier,export\n",
      "\u001b[1;31mImportError\u001b[0m: cannot import name 'decisiontreeclassifier' from 'sklearn.tree' (C:\\Users\\Monika\\anaconda3\\Lib\\site-packages\\sklearn\\tree\\__init__.py)"
     ]
    }
   ],
   "source": [
    "from sklearn.datasets import load_iris\n",
    "from sklearn.model_selection import train_test_split\n",
    "from sklearn.tree import decisiontreeclassifier,export_text"
   ]
  },
  {
   "cell_type": "code",
   "execution_count": 7,
   "id": "8343d22f",
   "metadata": {},
   "outputs": [
    {
     "ename": "SyntaxError",
     "evalue": "unterminated string literal (detected at line 20) (3637921259.py, line 20)",
     "output_type": "error",
     "traceback": [
      "\u001b[1;36m  Cell \u001b[1;32mIn[7], line 20\u001b[1;36m\u001b[0m\n\u001b[1;33m    print(f\"Features: {Sample}, predicted Class: {iris.target_names[predefined]})\u001b[0m\n\u001b[1;37m          ^\u001b[0m\n\u001b[1;31mSyntaxError\u001b[0m\u001b[1;31m:\u001b[0m unterminated string literal (detected at line 20)\n"
     ]
    }
   ],
   "source": [
    "# load the iris dataset\n",
    "iris = load_iris()\n",
    "x= iris.dataset\n",
    "y = iris.target\n",
    "\n",
    "x_train, x_test,y_train,y_test = train_test_split(x,y, test_size = 0.2)\n",
    "\n",
    "clf = DecisionTreeclassifier(Criterion = 'entropy') # ID3 algorithm \n",
    "clf.fit(x_train, y_train)\n",
    "trees_rules = export_text(clf,feature_names = iris.feature_names)\n",
    "print(\"Decision Tree Rules:\\n\" , tree_rules)\n",
    "\n",
    "# Classify new samples \n",
    "new_samples = [[ 5.1,3.5, 1.4, 0.2],\n",
    "               [6.9,3.2, 5.7, 2.3],\n",
    "               [5.8 , 2.7, 4.1, 1.0]]\n",
    "predictions = clf.predict(new_samples)\n",
    "print(\"\\npredictions for new samples:\")\n",
    "for sample, prediction in Zip(new_samples, predictions):\n",
    "    print(f\"Features: {Sample}, predicted Class: {iris.target_names[predefined]})"
   ]
  },
  {
   "cell_type": "code",
   "execution_count": null,
   "id": "ed165675",
   "metadata": {},
   "outputs": [],
   "source": []
  },
  {
   "cell_type": "code",
   "execution_count": null,
   "id": "d20ad3df",
   "metadata": {},
   "outputs": [],
   "source": []
  }
 ],
 "metadata": {
  "kernelspec": {
   "display_name": "Python 3 (ipykernel)",
   "language": "python",
   "name": "python3"
  },
  "language_info": {
   "codemirror_mode": {
    "name": "ipython",
    "version": 3
   },
   "file_extension": ".py",
   "mimetype": "text/x-python",
   "name": "python",
   "nbconvert_exporter": "python",
   "pygments_lexer": "ipython3",
   "version": "3.11.5"
  }
 },
 "nbformat": 4,
 "nbformat_minor": 5
}
